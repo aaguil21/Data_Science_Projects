{
 "cells": [
  {
   "cell_type": "markdown",
   "id": "3ccca15c-32c2-4cc5-a5e2-797739b28583",
   "metadata": {},
   "source": [
    "This notebook will focus on Exerices 10 from Hands_On_Machine Learning Chapter 10"
   ]
  },
  {
   "cell_type": "code",
   "execution_count": null,
   "id": "52c30793-cd49-4fee-936b-94899a2e56eb",
   "metadata": {},
   "outputs": [],
   "source": []
  }
 ],
 "metadata": {
  "kernelspec": {
   "display_name": "Python 3",
   "language": "python",
   "name": "python3"
  },
  "language_info": {
   "codemirror_mode": {
    "name": "ipython",
    "version": 3
   },
   "file_extension": ".py",
   "mimetype": "text/x-python",
   "name": "python",
   "nbconvert_exporter": "python",
   "pygments_lexer": "ipython3",
   "version": "3.8.8"
  }
 },
 "nbformat": 4,
 "nbformat_minor": 5
}
