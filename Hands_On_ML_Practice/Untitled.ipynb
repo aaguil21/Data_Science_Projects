{
 "cells": [
  {
   "cell_type": "markdown",
   "id": "3ccca15c-32c2-4cc5-a5e2-797739b28583",
   "metadata": {},
   "source": [
    "This notebook will focus on Exerices 10 from Hands_On_Machine Learning Chapter 10"
   ]
  },
  {
   "cell_type": "code",
   "execution_count": 94,
   "id": "5ded4b63-e4ab-4be4-baa0-5d27d9e19fc3",
   "metadata": {},
   "outputs": [],
   "source": [
    "import tensorflow as tf\n",
    "from tensorflow import keras\n",
    "import numpy as np\n",
    "import matplotlib.pyplot as plt\n"
   ]
  },
  {
   "cell_type": "code",
   "execution_count": 3,
   "id": "52c30793-cd49-4fee-936b-94899a2e56eb",
   "metadata": {},
   "outputs": [],
   "source": [
    "(X_train_full, y_train_full), (X_test, y_test) = keras.datasets.mnist.load_data()"
   ]
  },
  {
   "cell_type": "code",
   "execution_count": 31,
   "id": "72d95677-e9ef-4a1d-a86b-d9b37e91e0d8",
   "metadata": {},
   "outputs": [],
   "source": [
    "X_valid, X_train = X_train_full[:5000] / 255., X_train_full[5000:] / 255.\n",
    "y_valid, y_train = y_train_full[:5000], y_train_full[5000:]\n",
    "X_test = X_test / 255."
   ]
  },
  {
   "cell_type": "code",
   "execution_count": 32,
   "id": "b1c206f5-dad8-4127-9b86-d9f89a2523b0",
   "metadata": {},
   "outputs": [
    {
     "data": {
      "text/plain": [
       "(55000, 28, 28)"
      ]
     },
     "execution_count": 32,
     "metadata": {},
     "output_type": "execute_result"
    }
   ],
   "source": [
    "X_train.shape"
   ]
  },
  {
   "cell_type": "code",
   "execution_count": null,
   "id": "dac1dc42-84a0-460a-bfa3-e4fc6d04491e",
   "metadata": {},
   "outputs": [],
   "source": []
  },
  {
   "cell_type": "code",
   "execution_count": 33,
   "id": "120766dd-4849-4007-be06-8f7ac9281613",
   "metadata": {},
   "outputs": [],
   "source": [
    "K = keras.backend\n",
    "\n",
    "class ExponentialLearningRate(keras.callbacks.Callback):\n",
    "    def __init__(self, factor):\n",
    "        self.factor = factor\n",
    "        self.rates = []\n",
    "        self.losses = []\n",
    "    def on_batch_end(self, batch, logs):\n",
    "        self.rates.append(K.get_value(self.model.optimizer.learning_rate))\n",
    "        self.losses.append(logs[\"loss\"])\n",
    "        K.set_value(self.model.optimizer.learning_rate, self.model.optimizer.learning_rate * self.factor)"
   ]
  },
  {
   "cell_type": "code",
   "execution_count": 34,
   "id": "54a4e19e-250f-4f3d-ac1f-d41105635c48",
   "metadata": {},
   "outputs": [],
   "source": [
    "keras.backend.clear_session()\n",
    "np.random.seed(42)\n",
    "tf.random.set_seed(42)"
   ]
  },
  {
   "cell_type": "code",
   "execution_count": 60,
   "id": "949b5e87-77da-4943-88dd-bd7e8513128f",
   "metadata": {},
   "outputs": [],
   "source": [
    "model = keras.models.Sequential([\n",
    "    keras.layers.Flatten(input_shape=X_train.shape[1:]),\n",
    "    keras.layers.Dense(300, activation=\"relu\"),\n",
    "    keras.layers.Dense(100, activation=\"relu\"),\n",
    "    keras.layers.Dense(10, activation='softmax')\n",
    "])"
   ]
  },
  {
   "cell_type": "code",
   "execution_count": 61,
   "id": "f4aa89fa-4760-4082-9b6b-737213721ef6",
   "metadata": {},
   "outputs": [],
   "source": [
    "optimizer = keras.optimizers.SGD(learning_rate=1e-3)\n",
    "loss = keras.losses.sparse_categorical_crossentropy\n",
    "\n",
    "model.compile(loss=loss, optimizer=optimizer, metrics=['accuracy'])"
   ]
  },
  {
   "cell_type": "code",
   "execution_count": 59,
   "id": "b196b08d-f5c9-425a-ad3d-2bd5071fde6b",
   "metadata": {},
   "outputs": [],
   "source": [
    "expon_lr = ExponentialLearningRate(factor=1.0045)"
   ]
  },
  {
   "cell_type": "code",
   "execution_count": 62,
   "id": "a8cd9ff3-963e-4996-b909-da136c2964a1",
   "metadata": {},
   "outputs": [
    {
     "name": "stdout",
     "output_type": "stream",
     "text": [
      "1719/1719 [==============================] - 4s 2ms/step - loss: nan - accuracy: 0.6523 - val_loss: nan - val_accuracy: 0.0958\n"
     ]
    }
   ],
   "source": [
    "history = model.fit(X_train, y_train, epochs=1,\n",
    "                    validation_data=(X_valid, y_valid),\n",
    "                    callbacks=[expon_lr])"
   ]
  },
  {
   "cell_type": "code",
   "execution_count": null,
   "id": "84aaac95-fc92-47b1-ba68-f863f981cde6",
   "metadata": {},
   "outputs": [],
   "source": []
  },
  {
   "cell_type": "code",
   "execution_count": 63,
   "id": "631beae0-ad10-4895-9530-e0b0d2dc0170",
   "metadata": {},
   "outputs": [
    {
     "data": {
      "text/plain": [
       "Text(0, 0.5, 'Loss')"
      ]
     },
     "execution_count": 63,
     "metadata": {},
     "output_type": "execute_result"
    },
    {
     "data": {
      "image/png": "[encoded data removed]",
      "text/plain": [
       "<Figure size 432x288 with 1 Axes>"
      ]
     },
     "metadata": {
      "needs_background": "light"
     },
     "output_type": "display_data"
    }
   ],
   "source": [
    "plt.plot(expon_lr.rates, expon_lr.losses)\n",
    "plt.gca().set_xscale('log')\n",
    "plt.hlines(min(expon_lr.losses), min(expon_lr.rates), max(expon_lr.rates))\n",
    "plt.axis([min(expon_lr.rates), max(expon_lr.rates), 0, expon_lr.losses[0]])\n",
    "plt.grid()\n",
    "plt.xlabel(\"Learning rate\")\n",
    "plt.ylabel(\"Loss\")"
   ]
  },
  {
   "cell_type": "code",
   "execution_count": 67,
   "id": "010e38c2-d74f-476b-89d3-9eae1576406a",
   "metadata": {},
   "outputs": [],
   "source": [
    "prime_lr = expon_lr.rates[expon_lr.losses.index(min(expon_lr.losses))] / 10"
   ]
  },
  {
   "cell_type": "code",
   "execution_count": 85,
   "id": "c708eca6-828f-41a8-b34e-82c55609798f",
   "metadata": {},
   "outputs": [],
   "source": [
    "keras.backend.clear_session()\n",
    "np.random.seed(42)\n",
    "tf.random.set_seed(42)"
   ]
  },
  {
   "cell_type": "code",
   "execution_count": 86,
   "id": "86d353ab-2a3d-4a89-88dc-2705210a44bd",
   "metadata": {},
   "outputs": [],
   "source": [
    "model = keras.models.Sequential([\n",
    "    keras.layers.Flatten(input_shape=[28, 28]),\n",
    "    keras.layers.Dense(300, activation=\"relu\"),\n",
    "    keras.layers.Dense(100, activation=\"relu\"),\n",
    "    keras.layers.Dense(10, activation=\"softmax\")\n",
    "])"
   ]
  },
  {
   "cell_type": "code",
   "execution_count": 87,
   "id": "324586e4-bc8c-4d39-9ce6-8c49ce01cb4a",
   "metadata": {},
   "outputs": [],
   "source": [
    "model.compile(loss=\"sparse_categorical_crossentropy\",\n",
    "              optimizer=keras.optimizers.SGD(learning_rate=prime_lr),\n",
    "              metrics=[\"accuracy\"])"
   ]
  },
  {
   "cell_type": "code",
   "execution_count": 73,
   "id": "f3d83aaa-a1b7-4259-a995-b3bb3a530b9d",
   "metadata": {
    "tags": []
   },
   "outputs": [],
   "source": [
    "import os\n",
    "root_logdir = os.path.join(os.curdir, \"my_logs\")\n",
    "def get_run_logdir(lr):\n",
    "    return os.path.join(root_logdir, \"run_\").join(str(lr))\n",
    "run_logdir = get_run_logdir(prime_lr)"
   ]
  },
  {
   "cell_type": "code",
   "execution_count": 84,
   "id": "e331b5a5-5aab-4218-bcc1-95a17b06e5a8",
   "metadata": {},
   "outputs": [
    {
     "data": {
      "text/plain": [
       "'./my_mnist_logs/run_001'"
      ]
     },
     "execution_count": 84,
     "metadata": {},
     "output_type": "execute_result"
    }
   ],
   "source": [
    "run_index = 1 # increment this at every run\n",
    "run_logdir = os.path.join(os.curdir, \"my_mnist_logs\", \"run_{:03d}\".format(run_index))\n",
    "run_logdir"
   ]
  },
  {
   "cell_type": "code",
   "execution_count": 88,
   "id": "5ba984f7-11f8-42c5-b6a4-42abb9c14446",
   "metadata": {},
   "outputs": [
    {
     "name": "stdout",
     "output_type": "stream",
     "text": [
      "Epoch 1/100\n",
      "1719/1719 [==============================] - 4s 2ms/step - loss: 0.2778 - accuracy: 0.9170 - val_loss: 0.1280 - val_accuracy: 0.9640\n",
      "Epoch 2/100\n",
      "1719/1719 [==============================] - 3s 2ms/step - loss: 0.1120 - accuracy: 0.9667 - val_loss: 0.0977 - val_accuracy: 0.9720\n",
      "Epoch 3/100\n",
      "1719/1719 [==============================] - 3s 2ms/step - loss: 0.0758 - accuracy: 0.9766 - val_loss: 0.0776 - val_accuracy: 0.9770\n",
      "Epoch 4/100\n",
      "1719/1719 [==============================] - 3s 2ms/step - loss: 0.0549 - accuracy: 0.9831 - val_loss: 0.0731 - val_accuracy: 0.9782\n",
      "Epoch 5/100\n",
      "1719/1719 [==============================] - 3s 2ms/step - loss: 0.0414 - accuracy: 0.9871 - val_loss: 0.0740 - val_accuracy: 0.9798\n",
      "Epoch 6/100\n",
      "1719/1719 [==============================] - 4s 2ms/step - loss: 0.0303 - accuracy: 0.9907 - val_loss: 0.0641 - val_accuracy: 0.9832\n",
      "Epoch 7/100\n",
      "1719/1719 [==============================] - 3s 2ms/step - loss: 0.0224 - accuracy: 0.9933 - val_loss: 0.0675 - val_accuracy: 0.9818\n",
      "Epoch 8/100\n",
      "1719/1719 [==============================] - 3s 2ms/step - loss: 0.0163 - accuracy: 0.9956 - val_loss: 0.0693 - val_accuracy: 0.9818\n",
      "Epoch 9/100\n",
      "1719/1719 [==============================] - 3s 2ms/step - loss: 0.0119 - accuracy: 0.9969 - val_loss: 0.0699 - val_accuracy: 0.9840\n",
      "Epoch 10/100\n",
      "1719/1719 [==============================] - 3s 2ms/step - loss: 0.0077 - accuracy: 0.9985 - val_loss: 0.0638 - val_accuracy: 0.9846\n",
      "Epoch 11/100\n",
      "1719/1719 [==============================] - 3s 2ms/step - loss: 0.0047 - accuracy: 0.9993 - val_loss: 0.0669 - val_accuracy: 0.9844\n",
      "Epoch 12/100\n",
      "1719/1719 [==============================] - 3s 2ms/step - loss: 0.0029 - accuracy: 0.9997 - val_loss: 0.0671 - val_accuracy: 0.9850\n",
      "Epoch 13/100\n",
      "1719/1719 [==============================] - 3s 2ms/step - loss: 0.0023 - accuracy: 0.9998 - val_loss: 0.0680 - val_accuracy: 0.9852\n",
      "Epoch 14/100\n",
      "1719/1719 [==============================] - 3s 2ms/step - loss: 0.0015 - accuracy: 0.9999 - val_loss: 0.0716 - val_accuracy: 0.9842\n",
      "Epoch 15/100\n",
      "1719/1719 [==============================] - 3s 2ms/step - loss: 0.0013 - accuracy: 0.9999 - val_loss: 0.0707 - val_accuracy: 0.9848\n",
      "Epoch 16/100\n",
      "1719/1719 [==============================] - 3s 2ms/step - loss: 9.6363e-04 - accuracy: 1.0000 - val_loss: 0.0712 - val_accuracy: 0.9858\n",
      "Epoch 17/100\n",
      "1719/1719 [==============================] - 4s 2ms/step - loss: 8.2595e-04 - accuracy: 1.0000 - val_loss: 0.0722 - val_accuracy: 0.9852\n",
      "Epoch 18/100\n",
      "1719/1719 [==============================] - 5s 3ms/step - loss: 7.0829e-04 - accuracy: 1.0000 - val_loss: 0.0730 - val_accuracy: 0.9850\n",
      "Epoch 19/100\n",
      "1719/1719 [==============================] - 5s 3ms/step - loss: 6.4092e-04 - accuracy: 1.0000 - val_loss: 0.0734 - val_accuracy: 0.9846\n",
      "Epoch 20/100\n",
      "1719/1719 [==============================] - 4s 2ms/step - loss: 5.8651e-04 - accuracy: 1.0000 - val_loss: 0.0741 - val_accuracy: 0.9850\n",
      "Epoch 21/100\n",
      "1719/1719 [==============================] - 4s 2ms/step - loss: 5.4494e-04 - accuracy: 1.0000 - val_loss: 0.0740 - val_accuracy: 0.9852\n",
      "Epoch 22/100\n",
      "1719/1719 [==============================] - 4s 2ms/step - loss: 4.9921e-04 - accuracy: 1.0000 - val_loss: 0.0747 - val_accuracy: 0.9856\n",
      "Epoch 23/100\n",
      "1719/1719 [==============================] - 4s 2ms/step - loss: 4.6256e-04 - accuracy: 1.0000 - val_loss: 0.0754 - val_accuracy: 0.9844\n",
      "Epoch 24/100\n",
      "1719/1719 [==============================] - 4s 2ms/step - loss: 4.3001e-04 - accuracy: 1.0000 - val_loss: 0.0765 - val_accuracy: 0.9844\n",
      "Epoch 25/100\n",
      "1719/1719 [==============================] - 4s 2ms/step - loss: 4.0431e-04 - accuracy: 1.0000 - val_loss: 0.0758 - val_accuracy: 0.9844\n",
      "Epoch 26/100\n",
      "1719/1719 [==============================] - 4s 3ms/step - loss: 3.8101e-04 - accuracy: 1.0000 - val_loss: 0.0767 - val_accuracy: 0.9844\n",
      "Epoch 27/100\n",
      "1719/1719 [==============================] - 4s 2ms/step - loss: 3.6143e-04 - accuracy: 1.0000 - val_loss: 0.0767 - val_accuracy: 0.9848\n",
      "Epoch 28/100\n",
      "1719/1719 [==============================] - 4s 2ms/step - loss: 3.3953e-04 - accuracy: 1.0000 - val_loss: 0.0774 - val_accuracy: 0.9848\n",
      "Epoch 29/100\n",
      "1719/1719 [==============================] - 3s 2ms/step - loss: 3.2310e-04 - accuracy: 1.0000 - val_loss: 0.0778 - val_accuracy: 0.9854\n",
      "Epoch 30/100\n",
      "1719/1719 [==============================] - 4s 2ms/step - loss: 3.0850e-04 - accuracy: 1.0000 - val_loss: 0.0777 - val_accuracy: 0.9852\n"
     ]
    }
   ],
   "source": [
    "early_stopping_cb = keras.callbacks.EarlyStopping(patience=20)\n",
    "checkpoint_cb = keras.callbacks.ModelCheckpoint(\"my_mnist_model.h5\", save_best_only=True)\n",
    "tensorboard_cb = keras.callbacks.TensorBoard(run_logdir)\n",
    "\n",
    "history = model.fit(X_train, y_train, epochs=100,\n",
    "                    validation_data=(X_valid, y_valid),\n",
    "                    callbacks=[checkpoint_cb, early_stopping_cb, tensorboard_cb])"
   ]
  },
  {
   "cell_type": "code",
   "execution_count": 89,
   "id": "4a96a60a-2738-42ba-b80e-7af528d48466",
   "metadata": {},
   "outputs": [
    {
     "name": "stdout",
     "output_type": "stream",
     "text": [
      "313/313 [==============================] - 1s 1ms/step - loss: 0.0615 - accuracy: 0.9808\n"
     ]
    },
    {
     "data": {
      "text/plain": [
       "[0.06145576760172844, 0.9807999730110168]"
      ]
     },
     "execution_count": 89,
     "metadata": {},
     "output_type": "execute_result"
    }
   ],
   "source": [
    "model = keras.models.load_model(\"my_mnist_model.h5\") # rollback to best model\n",
    "model.evaluate(X_test, y_test)"
   ]
  },
  {
   "cell_type": "code",
   "execution_count": 83,
   "id": "75d39a6f-3c15-48af-9bf3-fab3061bbcc3",
   "metadata": {},
   "outputs": [
    {
     "name": "stdout",
     "output_type": "stream",
     "text": [
      "The tensorboard extension is already loaded. To reload it, use:\n",
      "  %reload_ext tensorboard\n"
     ]
    }
   ],
   "source": [
    "%load_ext tensorboard"
   ]
  },
  {
   "cell_type": "code",
   "execution_count": 93,
   "id": "8396d9f8-3048-451c-b782-5eb658d3bc8b",
   "metadata": {},
   "outputs": [
    {
     "data": {
      "text/html": [
       "\n",
       "      <iframe id=\"tensorboard-frame-3e38a846484a2919\" width=\"100%\" height=\"800\" frameborder=\"0\">\n",
       "      </iframe>\n",
       "      <script>\n",
       "        (function() {\n",
       "          const frame = document.getElementById(\"tensorboard-frame-3e38a846484a2919\");\n",
       "          const url = new URL(\"/\", window.location);\n",
       "          const port = 6008;\n",
       "          if (port) {\n",
       "            url.port = port;\n",
       "          }\n",
       "          frame.src = url;\n",
       "        })();\n",
       "      </script>\n",
       "    "
      ],
      "text/plain": [
       "<IPython.core.display.HTML object>"
      ]
     },
     "metadata": {},
     "output_type": "display_data"
    }
   ],
   "source": [
    "%tensorboard --logdir=./my_mnist_logs --load_fast true"
   ]
  },
  {
   "cell_type": "code",
   "execution_count": null,
   "id": "f6529105-a811-4c40-a70c-34a0279f7a04",
   "metadata": {},
   "outputs": [],
   "source": []
  }
 ],
 "metadata": {
  "kernelspec": {
   "display_name": "Python 3",
   "language": "python",
   "name": "python3"
  },
  "language_info": {
   "codemirror_mode": {
    "name": "ipython",
    "version": 3
   },
   "file_extension": ".py",
   "mimetype": "text/x-python",
   "name": "python",
   "nbconvert_exporter": "python",
   "pygments_lexer": "ipython3",
   "version": "3.8.8"
  }
 },
 "nbformat": 4,
 "nbformat_minor": 5
}
