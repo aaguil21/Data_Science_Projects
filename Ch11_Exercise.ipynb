{
 "cells": [
  {
   "cell_type": "markdown",
   "id": "50fef19f-8eec-49d5-8c59-3026a5161f79",
   "metadata": {},
   "source": [
    "This notebook will focus on Exercise 8 from Hands_On_Machine Learning Chapter 11"
   ]
  },
  {
   "cell_type": "code",
   "execution_count": null,
   "id": "84df35d9-46f3-4d75-9a00-dc82de9431b5",
   "metadata": {},
   "outputs": [],
   "source": [
    "import tensorflow as tf\n",
    "from tensorflow import keras\n",
    "import numpy as np\n",
    "import matplotlib.pyplot as plt"
   ]
  },
  {
   "cell_type": "code",
   "execution_count": null,
   "id": "dbba4add-a744-41b5-83d6-5fd402a4045d",
   "metadata": {},
   "outputs": [],
   "source": [
    "keras.backend.clear_session()\n",
    "tf.random.set_seed(42)\n",
    "np.random.seed(42)"
   ]
  },
  {
   "cell_type": "code",
   "execution_count": null,
   "id": "e453fff9-7a52-4d30-a667-ae82c8ee3a8e",
   "metadata": {},
   "outputs": [],
   "source": [
    "(X_train_full, y_train_full), (X_test, y_test) = keras.datasets.cifar10.load_data()"
   ]
  },
  {
   "cell_type": "code",
   "execution_count": null,
   "id": "a6445598-cbb7-42b3-bd28-720a86e8305d",
   "metadata": {},
   "outputs": [],
   "source": [
    "X_valid, X_train = X_train_full[:10000] / 255., X_train_full[10000:] / 255.\n",
    "y_valid, y_train = y_train_full[:10000], y_train_full[10000:]\n",
    "X_test = X_test / 255."
   ]
  },
  {
   "cell_type": "code",
   "execution_count": 19,
   "id": "9de0fa85-7a15-480d-82a6-eb1ead13d464",
   "metadata": {},
   "outputs": [
    {
     "data": {
      "text/plain": [
       "(32, 32, 3)"
      ]
     },
     "execution_count": 19,
     "metadata": {},
     "output_type": "execute_result"
    }
   ],
   "source": [
    "X_train_full.shape[1:]"
   ]
  },
  {
   "cell_type": "code",
   "execution_count": null,
   "id": "50ae4691-aee5-4b2d-8ef0-b610be5fceed",
   "metadata": {},
   "outputs": [],
   "source": []
  },
  {
   "cell_type": "code",
   "execution_count": null,
   "id": "eb0d9c88-b598-42e8-95e1-faff9d3aed8d",
   "metadata": {},
   "outputs": [],
   "source": [
    "model = keras.models.Sequential()\n",
    "model.add(keras.layers.Flatten(input_shape=X_train_full.shape[1:]))\n",
    "for i in range(0,20):\n",
    "    model.add(keras.layers.Dense(100, activation='elu', kernel_initializer='he_normal'))"
   ]
  },
  {
   "cell_type": "code",
   "execution_count": null,
   "id": "68b10d0a-e067-42e6-b584-eb62d7084480",
   "metadata": {},
   "outputs": [],
   "source": [
    "model.add(keras.layers.Dense(10, activation='softmax'))"
   ]
  },
  {
   "cell_type": "code",
   "execution_count": 20,
   "id": "698804a4-20cb-4e66-83cc-fbda3717e594",
   "metadata": {},
   "outputs": [],
   "source": [
    "optimizer = keras.optimizers.Nadam(learning_rate=5e-5)\n",
    "loss = keras.losses.sparse_categorical_crossentropy\n",
    "\n",
    "model.compile(loss=loss, optimizer=optimizer, metrics=['accuracy'])"
   ]
  },
  {
   "cell_type": "code",
   "execution_count": 23,
   "id": "e13e85fa-e2e1-4c0f-9cf6-5f9fcee989b0",
   "metadata": {},
   "outputs": [],
   "source": [
    "early_stopping_cb = keras.callbacks.EarlyStopping(patience=20)\n",
    "checkpoint_cb = keras.callbacks.ModelCheckpoint(\"my_cifar10_model.h5\", save_best_only=True)\n",
    "import os \n",
    "run_index = 1 # increment every time you train the model\n",
    "run_logdir = os.path.join(os.curdir, \"my_cifar10_logs\", \"run_{:03d}\".format(run_index))\n",
    "tensorboard_cb = keras.callbacks.TensorBoard(run_logdir)\n",
    "callbacks = [early_stopping_cb, checkpoint_cb, tensorboard_cb]"
   ]
  },
  {
   "cell_type": "code",
   "execution_count": 27,
   "id": "fa08fb1e-0a71-40b5-9d5c-03698a14b641",
   "metadata": {},
   "outputs": [],
   "source": [
    "%load_ext tensorboard "
   ]
  },
  {
   "cell_type": "code",
   "execution_count": 28,
   "id": "3a31c0a5-6cd9-40b7-9583-cba728b0fd28",
   "metadata": {},
   "outputs": [
    {
     "name": "stdout",
     "output_type": "stream",
     "text": [
      "Epoch 1/100\n",
      "1250/1250 [==============================] - 10s 6ms/step - loss: 1.4790 - accuracy: 0.4606 - val_loss: 1.5251 - val_accuracy: 0.4450\n",
      "Epoch 2/100\n",
      "1250/1250 [==============================] - 8s 6ms/step - loss: 1.4606 - accuracy: 0.4685 - val_loss: 1.5234 - val_accuracy: 0.4474\n",
      "Epoch 3/100\n",
      "1250/1250 [==============================] - 7s 6ms/step - loss: 1.4531 - accuracy: 0.4714 - val_loss: 1.5339 - val_accuracy: 0.4434\n",
      "Epoch 4/100\n",
      "1250/1250 [==============================] - 8s 6ms/step - loss: 1.4479 - accuracy: 0.4733 - val_loss: 1.5148 - val_accuracy: 0.4497\n",
      "Epoch 5/100\n",
      "1250/1250 [==============================] - 8s 6ms/step - loss: 1.4431 - accuracy: 0.4746 - val_loss: 1.5162 - val_accuracy: 0.4519\n",
      "Epoch 6/100\n",
      "1250/1250 [==============================] - 8s 6ms/step - loss: 1.4386 - accuracy: 0.4777 - val_loss: 1.5159 - val_accuracy: 0.4499\n",
      "Epoch 7/100\n",
      "1250/1250 [==============================] - 8s 6ms/step - loss: 1.4342 - accuracy: 0.4759 - val_loss: 1.5130 - val_accuracy: 0.4509\n",
      "Epoch 8/100\n",
      "1250/1250 [==============================] - 8s 6ms/step - loss: 1.4309 - accuracy: 0.4787 - val_loss: 1.5143 - val_accuracy: 0.4538\n",
      "Epoch 9/100\n",
      "1250/1250 [==============================] - 8s 6ms/step - loss: 1.4264 - accuracy: 0.4794 - val_loss: 1.5114 - val_accuracy: 0.4507\n",
      "Epoch 10/100\n",
      "1250/1250 [==============================] - 8s 7ms/step - loss: 1.4235 - accuracy: 0.4835 - val_loss: 1.5141 - val_accuracy: 0.4526\n",
      "Epoch 11/100\n",
      "1250/1250 [==============================] - 8s 6ms/step - loss: 1.4193 - accuracy: 0.4808 - val_loss: 1.5136 - val_accuracy: 0.4507\n",
      "Epoch 12/100\n",
      "1250/1250 [==============================] - 8s 6ms/step - loss: 1.4159 - accuracy: 0.4865 - val_loss: 1.5054 - val_accuracy: 0.4558\n",
      "Epoch 13/100\n",
      "1250/1250 [==============================] - 8s 6ms/step - loss: 1.4123 - accuracy: 0.4863 - val_loss: 1.5142 - val_accuracy: 0.4522\n",
      "Epoch 14/100\n",
      "1250/1250 [==============================] - 8s 7ms/step - loss: 1.4090 - accuracy: 0.4870 - val_loss: 1.5062 - val_accuracy: 0.4550\n",
      "Epoch 15/100\n",
      "1250/1250 [==============================] - 8s 6ms/step - loss: 1.4050 - accuracy: 0.4892 - val_loss: 1.5076 - val_accuracy: 0.4602\n",
      "Epoch 16/100\n",
      "1250/1250 [==============================] - 8s 6ms/step - loss: 1.4028 - accuracy: 0.4895 - val_loss: 1.5082 - val_accuracy: 0.4538\n",
      "Epoch 17/100\n",
      "1250/1250 [==============================] - 7s 6ms/step - loss: 1.4000 - accuracy: 0.4908 - val_loss: 1.5058 - val_accuracy: 0.4596\n",
      "Epoch 18/100\n",
      "1250/1250 [==============================] - 8s 6ms/step - loss: 1.3957 - accuracy: 0.4912 - val_loss: 1.5059 - val_accuracy: 0.4545\n",
      "Epoch 19/100\n",
      "1250/1250 [==============================] - 8s 7ms/step - loss: 1.3942 - accuracy: 0.4937 - val_loss: 1.5061 - val_accuracy: 0.4559\n",
      "Epoch 20/100\n",
      "1250/1250 [==============================] - 8s 6ms/step - loss: 1.3902 - accuracy: 0.4929 - val_loss: 1.5032 - val_accuracy: 0.4561\n",
      "Epoch 21/100\n",
      "1250/1250 [==============================] - 8s 6ms/step - loss: 1.3872 - accuracy: 0.4956 - val_loss: 1.5039 - val_accuracy: 0.4586\n",
      "Epoch 22/100\n",
      "1250/1250 [==============================] - 7s 6ms/step - loss: 1.3833 - accuracy: 0.4963 - val_loss: 1.5033 - val_accuracy: 0.4586\n",
      "Epoch 23/100\n",
      "1250/1250 [==============================] - 7s 6ms/step - loss: 1.3812 - accuracy: 0.4978 - val_loss: 1.5037 - val_accuracy: 0.4595\n",
      "Epoch 24/100\n",
      "1250/1250 [==============================] - 8s 7ms/step - loss: 1.3796 - accuracy: 0.4973 - val_loss: 1.4965 - val_accuracy: 0.4588\n",
      "Epoch 25/100\n",
      "1250/1250 [==============================] - 8s 6ms/step - loss: 1.3757 - accuracy: 0.4988 - val_loss: 1.5001 - val_accuracy: 0.4602\n",
      "Epoch 26/100\n",
      "1250/1250 [==============================] - 7s 6ms/step - loss: 1.3737 - accuracy: 0.4987 - val_loss: 1.5021 - val_accuracy: 0.4609\n",
      "Epoch 27/100\n",
      "1250/1250 [==============================] - 7s 6ms/step - loss: 1.3696 - accuracy: 0.5012 - val_loss: 1.5020 - val_accuracy: 0.4589\n",
      "Epoch 28/100\n",
      "1250/1250 [==============================] - 7s 6ms/step - loss: 1.3680 - accuracy: 0.5013 - val_loss: 1.5018 - val_accuracy: 0.4622\n",
      "Epoch 29/100\n",
      "1250/1250 [==============================] - 7s 6ms/step - loss: 1.3647 - accuracy: 0.5025 - val_loss: 1.5003 - val_accuracy: 0.4610\n",
      "Epoch 30/100\n",
      "1250/1250 [==============================] - 7s 6ms/step - loss: 1.3613 - accuracy: 0.5029 - val_loss: 1.5059 - val_accuracy: 0.4624\n",
      "Epoch 31/100\n",
      "1250/1250 [==============================] - 8s 6ms/step - loss: 1.3601 - accuracy: 0.5044 - val_loss: 1.5045 - val_accuracy: 0.4649\n",
      "Epoch 32/100\n",
      "1250/1250 [==============================] - 8s 6ms/step - loss: 1.3567 - accuracy: 0.5069 - val_loss: 1.4998 - val_accuracy: 0.4626\n",
      "Epoch 33/100\n",
      "1250/1250 [==============================] - 8s 6ms/step - loss: 1.3546 - accuracy: 0.5083 - val_loss: 1.5062 - val_accuracy: 0.4629\n",
      "Epoch 34/100\n",
      "1250/1250 [==============================] - 9s 7ms/step - loss: 1.3514 - accuracy: 0.5086 - val_loss: 1.5023 - val_accuracy: 0.4611\n",
      "Epoch 35/100\n",
      "1250/1250 [==============================] - 8s 7ms/step - loss: 1.3496 - accuracy: 0.5070 - val_loss: 1.5001 - val_accuracy: 0.4635\n",
      "Epoch 36/100\n",
      "1250/1250 [==============================] - 8s 6ms/step - loss: 1.3469 - accuracy: 0.5085 - val_loss: 1.5035 - val_accuracy: 0.4664\n",
      "Epoch 37/100\n",
      "1250/1250 [==============================] - 8s 6ms/step - loss: 1.3433 - accuracy: 0.5104 - val_loss: 1.5134 - val_accuracy: 0.4593\n",
      "Epoch 38/100\n",
      "1250/1250 [==============================] - 8s 6ms/step - loss: 1.3417 - accuracy: 0.5116 - val_loss: 1.5040 - val_accuracy: 0.4642\n",
      "Epoch 39/100\n",
      "1250/1250 [==============================] - 8s 6ms/step - loss: 1.3388 - accuracy: 0.5139 - val_loss: 1.5045 - val_accuracy: 0.4628\n",
      "Epoch 40/100\n",
      "1250/1250 [==============================] - 8s 6ms/step - loss: 1.3363 - accuracy: 0.5118 - val_loss: 1.5046 - val_accuracy: 0.4624\n",
      "Epoch 41/100\n",
      "1250/1250 [==============================] - 8s 6ms/step - loss: 1.3344 - accuracy: 0.5139 - val_loss: 1.4962 - val_accuracy: 0.4626\n",
      "Epoch 42/100\n",
      "1250/1250 [==============================] - 8s 6ms/step - loss: 1.3303 - accuracy: 0.5169 - val_loss: 1.5062 - val_accuracy: 0.4641\n",
      "Epoch 43/100\n",
      "1250/1250 [==============================] - 8s 6ms/step - loss: 1.3281 - accuracy: 0.5156 - val_loss: 1.5060 - val_accuracy: 0.4672\n",
      "Epoch 44/100\n",
      "1250/1250 [==============================] - 8s 6ms/step - loss: 1.3262 - accuracy: 0.5174 - val_loss: 1.5057 - val_accuracy: 0.4662\n",
      "Epoch 45/100\n",
      "1250/1250 [==============================] - 8s 6ms/step - loss: 1.3244 - accuracy: 0.5172 - val_loss: 1.5062 - val_accuracy: 0.4646\n",
      "Epoch 46/100\n",
      "1250/1250 [==============================] - 8s 6ms/step - loss: 1.3221 - accuracy: 0.5186 - val_loss: 1.5047 - val_accuracy: 0.4684\n",
      "Epoch 47/100\n",
      "1250/1250 [==============================] - 8s 7ms/step - loss: 1.3189 - accuracy: 0.5199 - val_loss: 1.5091 - val_accuracy: 0.4645\n",
      "Epoch 48/100\n",
      "1250/1250 [==============================] - 8s 6ms/step - loss: 1.3176 - accuracy: 0.5202 - val_loss: 1.5130 - val_accuracy: 0.4641\n",
      "Epoch 49/100\n",
      "1250/1250 [==============================] - 8s 6ms/step - loss: 1.3143 - accuracy: 0.5217 - val_loss: 1.4966 - val_accuracy: 0.4684\n",
      "Epoch 50/100\n",
      "1250/1250 [==============================] - 8s 6ms/step - loss: 1.3128 - accuracy: 0.5220 - val_loss: 1.5008 - val_accuracy: 0.4653\n",
      "Epoch 51/100\n",
      "1250/1250 [==============================] - 8s 7ms/step - loss: 1.3097 - accuracy: 0.5225 - val_loss: 1.5061 - val_accuracy: 0.4657\n",
      "Epoch 52/100\n",
      "1250/1250 [==============================] - 8s 6ms/step - loss: 1.3086 - accuracy: 0.5245 - val_loss: 1.5075 - val_accuracy: 0.4684\n",
      "Epoch 53/100\n",
      "1250/1250 [==============================] - 8s 6ms/step - loss: 1.3054 - accuracy: 0.5246 - val_loss: 1.5054 - val_accuracy: 0.4666\n",
      "Epoch 54/100\n",
      "1250/1250 [==============================] - 8s 7ms/step - loss: 1.3036 - accuracy: 0.5254 - val_loss: 1.4951 - val_accuracy: 0.4654\n",
      "Epoch 55/100\n",
      "1250/1250 [==============================] - 8s 6ms/step - loss: 1.3010 - accuracy: 0.5253 - val_loss: 1.5110 - val_accuracy: 0.4659\n",
      "Epoch 56/100\n",
      "1250/1250 [==============================] - 8s 6ms/step - loss: 1.2987 - accuracy: 0.5263 - val_loss: 1.5029 - val_accuracy: 0.4657\n",
      "Epoch 57/100\n",
      "1250/1250 [==============================] - 8s 6ms/step - loss: 1.2964 - accuracy: 0.5276 - val_loss: 1.5131 - val_accuracy: 0.4662\n",
      "Epoch 58/100\n",
      "1250/1250 [==============================] - 8s 7ms/step - loss: 1.2956 - accuracy: 0.5286 - val_loss: 1.5063 - val_accuracy: 0.4605\n",
      "Epoch 59/100\n",
      "1250/1250 [==============================] - 8s 6ms/step - loss: 1.2926 - accuracy: 0.5292 - val_loss: 1.5039 - val_accuracy: 0.4708\n",
      "Epoch 60/100\n",
      "1250/1250 [==============================] - 8s 7ms/step - loss: 1.2889 - accuracy: 0.5304 - val_loss: 1.5015 - val_accuracy: 0.4673\n",
      "Epoch 61/100\n",
      "1250/1250 [==============================] - 8s 7ms/step - loss: 1.2876 - accuracy: 0.5310 - val_loss: 1.5028 - val_accuracy: 0.4679\n",
      "Epoch 62/100\n",
      "1250/1250 [==============================] - 8s 7ms/step - loss: 1.2862 - accuracy: 0.5310 - val_loss: 1.5094 - val_accuracy: 0.4687\n",
      "Epoch 63/100\n",
      "1250/1250 [==============================] - 8s 6ms/step - loss: 1.2830 - accuracy: 0.5331 - val_loss: 1.5022 - val_accuracy: 0.4682\n",
      "Epoch 64/100\n",
      "1250/1250 [==============================] - 8s 7ms/step - loss: 1.2817 - accuracy: 0.5335 - val_loss: 1.5079 - val_accuracy: 0.4698\n",
      "Epoch 65/100\n",
      "1250/1250 [==============================] - 8s 6ms/step - loss: 1.2788 - accuracy: 0.5346 - val_loss: 1.5120 - val_accuracy: 0.4641\n",
      "Epoch 66/100\n",
      "1250/1250 [==============================] - 8s 6ms/step - loss: 1.2751 - accuracy: 0.5358 - val_loss: 1.5142 - val_accuracy: 0.4690\n",
      "Epoch 67/100\n",
      "1250/1250 [==============================] - 8s 6ms/step - loss: 1.2749 - accuracy: 0.5354 - val_loss: 1.5139 - val_accuracy: 0.4692\n",
      "Epoch 68/100\n",
      "1250/1250 [==============================] - 8s 6ms/step - loss: 1.2721 - accuracy: 0.5370 - val_loss: 1.5160 - val_accuracy: 0.4694\n",
      "Epoch 69/100\n",
      "1250/1250 [==============================] - 8s 7ms/step - loss: 1.2697 - accuracy: 0.5383 - val_loss: 1.5135 - val_accuracy: 0.4700\n",
      "Epoch 70/100\n",
      "1250/1250 [==============================] - 8s 7ms/step - loss: 1.2682 - accuracy: 0.5390 - val_loss: 1.5099 - val_accuracy: 0.4687\n",
      "Epoch 71/100\n",
      "1250/1250 [==============================] - 8s 6ms/step - loss: 1.2661 - accuracy: 0.5391 - val_loss: 1.5118 - val_accuracy: 0.4709\n",
      "Epoch 72/100\n",
      "1250/1250 [==============================] - 8s 7ms/step - loss: 1.2645 - accuracy: 0.5405 - val_loss: 1.5202 - val_accuracy: 0.4702\n",
      "Epoch 73/100\n",
      "1250/1250 [==============================] - 8s 7ms/step - loss: 1.2620 - accuracy: 0.5409 - val_loss: 1.5204 - val_accuracy: 0.4690\n",
      "Epoch 74/100\n",
      "1250/1250 [==============================] - 8s 7ms/step - loss: 1.2613 - accuracy: 0.5396 - val_loss: 1.5070 - val_accuracy: 0.4725\n"
     ]
    }
   ],
   "source": [
    "\n",
    "\n",
    "history = model.fit(X_train, y_train, epochs=100,\n",
    "                    validation_data=(X_valid, y_valid),\n",
    "                    callbacks=callbacks)"
   ]
  },
  {
   "cell_type": "code",
   "execution_count": 31,
   "id": "7d565b3f-8d6a-4670-a219-05e273869025",
   "metadata": {},
   "outputs": [
    {
     "data": {
      "text/html": [
       "\n",
       "      <iframe id=\"tensorboard-frame-ee05dd03f06b09d7\" width=\"100%\" height=\"800\" frameborder=\"0\">\n",
       "      </iframe>\n",
       "      <script>\n",
       "        (function() {\n",
       "          const frame = document.getElementById(\"tensorboard-frame-ee05dd03f06b09d7\");\n",
       "          const url = new URL(\"/\", window.location);\n",
       "          const port = 6006;\n",
       "          if (port) {\n",
       "            url.port = port;\n",
       "          }\n",
       "          frame.src = url;\n",
       "        })();\n",
       "      </script>\n",
       "    "
      ],
      "text/plain": [
       "<IPython.core.display.HTML object>"
      ]
     },
     "metadata": {},
     "output_type": "display_data"
    }
   ],
   "source": [
    "%tensorboard --logdir=./my_cifar10_logs --load_fast true"
   ]
  },
  {
   "cell_type": "code",
   "execution_count": 30,
   "id": "fd3b2e51-f3bd-4bcf-bb20-e57f66184afd",
   "metadata": {},
   "outputs": [
    {
     "name": "stdout",
     "output_type": "stream",
     "text": [
      "313/313 [==============================] - 1s 2ms/step - loss: 1.4951 - accuracy: 0.4654\n"
     ]
    },
    {
     "data": {
      "text/plain": [
       "[1.4950512647628784, 0.46540001034736633]"
      ]
     },
     "execution_count": 30,
     "metadata": {},
     "output_type": "execute_result"
    }
   ],
   "source": [
    "nadam_model = keras.models.load_model('my_cifar10_model.h5')\n",
    "nadam_model.evaluate(X_valid, y_valid)"
   ]
  },
  {
   "cell_type": "code",
   "execution_count": null,
   "id": "cd4ba451-76fd-4df8-a44f-73fcdd0b7611",
   "metadata": {},
   "outputs": [],
   "source": []
  }
 ],
 "metadata": {
  "kernelspec": {
   "display_name": "Python 3",
   "language": "python",
   "name": "python3"
  },
  "language_info": {
   "codemirror_mode": {
    "name": "ipython",
    "version": 3
   },
   "file_extension": ".py",
   "mimetype": "text/x-python",
   "name": "python",
   "nbconvert_exporter": "python",
   "pygments_lexer": "ipython3",
   "version": "3.8.8"
  }
 },
 "nbformat": 4,
 "nbformat_minor": 5
}
